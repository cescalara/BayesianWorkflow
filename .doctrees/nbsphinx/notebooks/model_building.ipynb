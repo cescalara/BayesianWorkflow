{
 "cells": [
  {
   "cell_type": "markdown",
   "id": "ad947718",
   "metadata": {},
   "source": [
    "## 2. Model building\n",
    "\n",
    "<br>\n",
    "\n",
    "A **Bayesian statistical model** is specified by the **likelihood model** (also called observational model) and **prior model**. This can be expressed as the joint probability density of the data, $x$, and model parameters, $\\theta$, such that\n",
    "\n",
    "<br>\n",
    "\n",
    "$$\n",
    "p(x, \\theta) = p(x | \\theta) p(\\theta).\n",
    "$$\n",
    "\n",
    "<br>\n",
    "\n",
    "We perform inference by conditioning on the data and calculating expectation values of the resulting posterior distribution. Recalling **Bayes' theorem**\n",
    "\n",
    "<br>\n",
    "\n",
    "$$\n",
    "p(\\theta | x) = \\frac{p(x | \\theta)p(\\theta)}{p(x)} \\propto p(x, \\theta),\n",
    "$$\n",
    "\n",
    "<br>\n",
    "\n",
    "we note that the results of our inference are *completely dependent on the assumed model*. Bayes' theorem is not some magical guarantee, and if our model does not represent the actual *data generating process* our inference will yield results that are meaningless in practice. Even worse, if we are not careful, a misspecified model may produce results that \"look good\" but are far from the truth - leading us to draw the wrong conclusions from our analysis. \n",
    "\n",
    "<br>\n",
    "\n",
    "Our workflow begins with building our first sensible model as a starting point, that we can later check and iterate upon to make sure our inferences are useful. The first model doesn't need to be perfect, and in fact should be as simple as possible while still including the scientific phenomenon of interest. This process is what we will focus on here.\n",
    "\n",
    "<br>"
   ]
  },
  {
   "cell_type": "markdown",
   "id": "be4cd990",
   "metadata": {},
   "source": [
    "### Going from a scientific question to a statistical model\n",
    "\n",
    "<br>\n",
    "\n",
    "So, model building is very important, but where to start? It can be helpful to break down the problem into the following components:\n",
    "\n",
    "* Scientific question\n",
    "* Data\n",
    "* Parameter(s) of interest\n",
    "* Key nuisance parameter(s)\n",
    "* Relevant domain expertise\n",
    "\n",
    "The model-building problem then comes down to **defining a connection between your parameters and data** (the likelihood/observational model) and **incorporating relevant domain expertise** (the prior model). \n",
    "\n",
    "To get a feel for how this can work, consider the following examples:\n",
    "\n",
    "<br>\n",
    "\n",
    "<img src=\"figures/science_stats.pdf\" alt=\"Going from a scientific question to a statistical model\" width=\"750\"/>\n",
    "\n",
    "<br>\n",
    "\n",
    "**Exercise 1 (10 points):** Fill out this table for some more complicated examples such as:\n",
    "\n",
    "* What is the value of the Hubble constant?\n",
    "* What is the mass of the Higgs boson?\n",
    "* An example from your own field/interests\n",
    "Below are some relevant plots of data used to make such measurements.\n",
    "\n",
    "The original Hubble diagram from [this paper](https://www.pnas.org/content/15/3/168):\n",
    "\n",
    "<img src=\"figures/hubble.jpg\" alt=\"The original Hubble diagram\" width=\"600\"/>\n",
    "\n",
    "First presentation of ATLAS Higgs to $\\gamma\\gamma$ results on 4th July 2012:\n",
    "\n",
    "<img src=\"figures/higgs.png\" alt=\"https://atlas.cern/updates/feature/higgs-boson\" width=\"500\"/>"
   ]
  },
  {
   "cell_type": "markdown",
   "id": "00d845ba",
   "metadata": {},
   "source": [
    "### The impossible model\n",
    "\n",
    "<br>\n",
    "\n",
    "When starting the model-building process, it can also be helpful to think about the ideal  model that you would fit if you had no restrictions on model complexity or computational resources. The purpose of this is to consider each step of the *data generating process* in detail, from start to finish. We are forced to think about complexities of the physical system and measurement process that may or may not be important for our later inference. The model itself may be impossible to actually write down or implement, but in doing this, we give can identify important steps and give context to the simpler models we will later go on to create. \n",
    "\n",
    "Taking the first example in the table above, consider what other effects may be important...\n",
    "\n",
    "<br>\n",
    "\n",
    "<img src=\"figures/ball_drop.pdf\" alt=\"Thinking about more complete models\" width=\"750\"/>\n",
    "\n",
    "<br>\n",
    "\n",
    "**Exercise 2 (5 points):** Can you expand the complexity for one of the other models that we discussed? List possible factors."
   ]
  },
  {
   "cell_type": "markdown",
   "id": "b9011f2c",
   "metadata": {},
   "source": [
    "### Probabilistic graphical models\n",
    "\n",
    "<br>\n",
    "\n",
    "For both of the above steps, it can be useful to sketch out connections between data and parameters using directed acyclic graphs (DAGs), often also called probabilistic graphical models (PGMs). These can be thought of as a visualisation of the data generating process, with parameters in unshaded circles, data or observations in shaded circles, and the arrows representing the connections between them. \n",
    "\n",
    "Here is a trivial example for that of data sampled from a normal distribution, such as what we looked at when introducing Stan in the *Are you ready?* section of the [introduction notebook](introduction.ipynb). The normal distribution is defined by two parameters, $\\mu$ and $\\sigma$. $N$ independent samples from this distribution are then taken, shown by $x_i$. The box around $x_i$ shows that there are a number of repeated samples, that we can think of as observations or measurements.\n",
    "\n",
    "<br>\n",
    "\n",
    "<img src=\"figures/simple_dag.pdf\" alt=\"A simple DAG or PGM for normally-distributed data\" width=\"200\"/>\n",
    "\n",
    "<br>\n",
    "\n",
    "**Exercise 3 (5 points):** Now it's your turn! Sketch graphical models for the first two examples in the above table (measurement of gravitational acceleration and radioactivity)."
   ]
  },
  {
   "cell_type": "markdown",
   "id": "51d17676",
   "metadata": {},
   "source": [
    "### An example: the period-luminosity relation of Cepheid variable stars\n",
    "\n",
    "<br>\n",
    "\n",
    "Cepheid variables are a type of star that pulsates in observed flux, such that the apparent magnitude of the star varies in time with a well-defined period and amplitude. This behaviour is interesting in its own right, but also because it has been observed that there is a strong correlation between this period and the intrinsic luminosity of these stars. This **period-luminosity** relation has the form\n",
    "$$\n",
    "M = \\alpha + \\beta \\log_{10} \\bigg( \\frac{P}{\\mathrm{days}} \\bigg), \n",
    "$$\n",
    "where $M$ is the absolute magnitude, related to the apparent magnitude, $m$, by the luminosity distance, $d_L(z)$\n",
    "$$\n",
    "m = M + 5 \\log_{10} \\bigg( \\frac{d_L(z)}{\\mathrm{Mpc}} \\bigg) + 25.\n",
    "$$\n",
    "\n",
    "<br>\n",
    "\n",
    "<img src=\"figures/cepheid_intro.pdf\" alt=\"Cepheid variables and the period-luminosity relation\" width=\"600\"/>\n",
    "\n",
    "<br>\n",
    "\n",
    "In astronomy, it is common to work with magnitudes instead of flux and luminosity, so the above expression is basically the equivalent of $F = L / 4 \\pi d_L^2(z)$. The magnitude is related to the logarithm of flux/luminosity and it is important to remember that magnitude *decreases* with increasing brightness, although we typically invert the y-axis when plotting magnitude for easier interpretation. So, **intrinsically brighter Cepheids have longer periods**.\n",
    "\n",
    "<br>\n",
    "\n",
    "We know this because we can measure the distance to nearby Cepheids using *parallax*. By determining the period-luminosity relation, we can then measure the distance to Cepheids that are further away, extending the [cosmic distance ladder](https://en.wikipedia.org/wiki/Cosmic_distance_ladder). Measuring distances to far away objects allows us to compare their luminosity distance and redshift, giving us an estimate of the [Hubble constant](https://en.wikipedia.org/wiki/Hubble%27s_law). \n",
    "\n",
    "<br>\n",
    "\n",
    "In the coming notebooks, we will explore a series of scientific questions related to Cepheid variable observations:\n",
    "\n",
    "1. What is the nature of the period-luminosity relation?\n",
    "\n",
    "2. Is the relationship universal? (i.e. the same in different galaxies)\n",
    "\n",
    "3. What is the value of the Hubble constant?"
   ]
  },
  {
   "cell_type": "markdown",
   "id": "aabba55c",
   "metadata": {},
   "source": [
    "### Generative modelling\n",
    "\n",
    "<br>\n",
    "\n",
    "Using what we know about Cepheid variables and the period-luminosity relation, we can start to build a simple initial model for what we think could be the data-generating process. \n",
    "\n",
    "<br>\n",
    "\n",
    "<u>Towards an initial model</u>\n",
    "\n",
    "Measuring the period of a Cepheid is relatively straightforward from studying its lightcurve, and so to start with we can assume that the period is a known quantity. However, the observed characteristic apparent magnitude, $\\hat{m}$, of a Cepheid can be more tricky to reconstruct exactly, so let's say that it is reported with some fixed uncertainty, $\\sigma_m$, that is the same for all Cepheids. We can assume that \n",
    "$$\n",
    "\\hat{m} \\sim \\mathrm{Normal}(m, \\sigma_m),\n",
    "$$ \n",
    "where $m$ is the true apparent magnitude that is not observed. Knowing that our measured Cepheids are going to be pretty nearby ($z < 0.01$), we can approximate the luminosity distance as \n",
    "$$\n",
    "d_L(z) = \\frac{cz}{H_0},\n",
    "$$\n",
    "where $c$ is the speed of light, and $H_0$ is the Hubble constant. Again, for simplicity, let's assume that for now we just look at $N_c$ Cepheids in a single galaxy with a known redshift, $z$.\n",
    "\n",
    "<br>\n",
    "\n",
    "**Exercise 4 (5 points):** With these simplifying assumptions in mind, sketch the corresponding graphical model for our initial Cepheid variable model. The parameters and known quantities are summarised below, just arrange them into a graph.\n",
    "\n",
    "<br>\n",
    "\n",
    "<img src=\"figures/cepheid_graph_bits.pdf\" alt=\"Blobs for the simple Cepheid graphical model\" width=\"750\"/>\n",
    "\n",
    "<br>\n",
    "\n",
    "**Exercise 5 (10 points):** Using the parameter and fixed quantity values given below, as well as your graphical model, write a simulation for the observed apparent magnitudes, $m_i$. Plot your results in $\\log_{10}(P/\\mathrm{days})$-$m$ space, comparing with the true period-luminosity relation. \n",
    "\n"
   ]
  },
  {
   "cell_type": "code",
   "execution_count": 1,
   "id": "47a38052",
   "metadata": {
    "ExecuteTime": {
     "end_time": "2021-09-06T10:08:34.376869Z",
     "start_time": "2021-09-06T10:08:33.969663Z"
    }
   },
   "outputs": [],
   "source": [
    "import numpy as np\n",
    "from matplotlib import pyplot as plt"
   ]
  },
  {
   "cell_type": "code",
   "execution_count": 2,
   "id": "98edc7e0",
   "metadata": {
    "ExecuteTime": {
     "end_time": "2021-09-06T10:08:34.488449Z",
     "start_time": "2021-09-06T10:08:34.485009Z"
    }
   },
   "outputs": [],
   "source": [
    "# known quantities\n",
    "c = 3.0e5 # km/s\n",
    "H0 = 70 # km/s/Mpc\n",
    "z = 0.005\n",
    "\n",
    "Nc = 10\n",
    "P = [71.5, 45.0, 19.9, 30.6, 8.8, 75.2, 21.5, 22.0, 34.5, 87.4] # days\n",
    "sigma_m = 0.5\n",
    "\n",
    "# high-level parameter values\n",
    "alpha = -2\n",
    "beta = -4"
   ]
  },
  {
   "cell_type": "markdown",
   "id": "2ced8589",
   "metadata": {},
   "source": [
    "Recall: \n",
    "$$\n",
    "M = \\alpha + \\beta \\log_{10} \\bigg( \\frac{P}{\\mathrm{days}} \\bigg), \n",
    "$$\n",
    "\n",
    "$$\n",
    "m = M + 5 \\log_{10} \\bigg( \\frac{d_L(z)}{\\mathrm{Mpc}} \\bigg) + 25.\n",
    "$$\n",
    "\n",
    "$$\n",
    "d_L(z) = \\frac{cz}{H_0},\n",
    "$$"
   ]
  },
  {
   "cell_type": "code",
   "execution_count": 3,
   "id": "0e0a6e34",
   "metadata": {
    "ExecuteTime": {
     "end_time": "2021-08-27T08:10:00.381314Z",
     "start_time": "2021-08-27T08:10:00.378766Z"
    }
   },
   "outputs": [],
   "source": [
    "# define some useful functions\n",
    "# dL: luminosity distance\n",
    "def luminosity_distance(z):\n",
    "    # to be completed...\n",
    "    pass\n",
    "\n",
    "# M: absolute magnitude\n",
    "def absolute_magnitude(alpha, beta, P):\n",
    "    # to be completed...\n",
    "    pass\n",
    "\n",
    "# m: apparent magnitude\n",
    "def apparent_magnitude(m, z):\n",
    "    # to be completed...\n",
    "    pass"
   ]
  },
  {
   "cell_type": "code",
   "execution_count": 4,
   "id": "0668a9e4",
   "metadata": {
    "ExecuteTime": {
     "end_time": "2021-08-27T08:10:00.385288Z",
     "start_time": "2021-08-27T08:10:00.383465Z"
    }
   },
   "outputs": [],
   "source": [
    "# simulate the observed apparent magnitudes\n",
    "# M_true = ...\n",
    "# m_true = ...\n",
    "# m_obs = ...\n",
    "# M_obs = ...\n",
    "pass"
   ]
  },
  {
   "cell_type": "code",
   "execution_count": 5,
   "id": "f6a040de",
   "metadata": {
    "ExecuteTime": {
     "end_time": "2021-08-27T08:10:00.522227Z",
     "start_time": "2021-08-27T08:10:00.386627Z"
    }
   },
   "outputs": [
    {
     "name": "stderr",
     "output_type": "stream",
     "text": [
      "No handles with labels found to put in legend.\n"
     ]
    },
    {
     "data": {
      "text/plain": [
       "Text(0, 0.5, 'm')"
      ]
     },
     "execution_count": 5,
     "metadata": {},
     "output_type": "execute_result"
    },
    {
     "data": {
      "image/png": "[encoded data removed]",
      "text/plain": [
       "<Figure size 432x288 with 1 Axes>"
      ]
     },
     "metadata": {
      "needs_background": "light"
     },
     "output_type": "display_data"
    }
   ],
   "source": [
    "# plot the true and observed apparent magnitudes\n",
    "log10_P_grid = np.linspace(0, 3)\n",
    "fig, ax = plt.subplots()\n",
    "#ax.scatter(log10P, m_true, label=\"m_true\")\n",
    "#ax.scatter(log10P, m_obs, label=\"m_obs\")\n",
    "ax.invert_yaxis() # so brighter as y-axis increases\n",
    "ax.legend()\n",
    "ax.set_xlabel(\"log10(P/days)\")\n",
    "ax.set_ylabel(\"m\")"
   ]
  },
  {
   "cell_type": "code",
   "execution_count": 6,
   "id": "170a06ba",
   "metadata": {
    "ExecuteTime": {
     "end_time": "2021-08-27T08:10:00.636387Z",
     "start_time": "2021-08-27T08:10:00.523595Z"
    }
   },
   "outputs": [
    {
     "name": "stderr",
     "output_type": "stream",
     "text": [
      "No handles with labels found to put in legend.\n"
     ]
    },
    {
     "data": {
      "text/plain": [
       "Text(0, 0.5, 'M')"
      ]
     },
     "execution_count": 6,
     "metadata": {},
     "output_type": "execute_result"
    },
    {
     "data": {
      "image/png": "[encoded data removed]",
      "text/plain": [
       "<Figure size 432x288 with 1 Axes>"
      ]
     },
     "metadata": {
      "needs_background": "light"
     },
     "output_type": "display_data"
    }
   ],
   "source": [
    "# plot the true and observed absolute magnitudes, compare with true P-L relation\n",
    "log10P_grid = np.linspace(0, 3)\n",
    "fig, ax = plt.subplots()\n",
    "#ax.scatter(log10P, M_true, label=\"M_true\")\n",
    "#ax.scatter(log10P, M_obs, label=\"M_obs\")\n",
    "ax.plot(log10P_grid, alpha + beta * log10P_grid)\n",
    "ax.invert_yaxis() # so brighter as y-axis increases\n",
    "ax.legend()\n",
    "ax.set_xlabel(\"log10(P/days)\")\n",
    "ax.set_ylabel(\"M\")"
   ]
  },
  {
   "cell_type": "markdown",
   "id": "6947646c",
   "metadata": {},
   "source": [
    "In the above plots, you may have been tempted to use `ax.errorbar()` or `plt.errorbar()` to show the data, `m` or `M` together with the uncertainty, `sigma_m`.\n",
    "\n",
    ">Note: The uncertainties on `M` and `m` are equivalent, due to the additive relationship between the two.\n",
    "\n",
    "This can be a helpful visualisation, and you are free to do so if you wish! However, it is important to remember that in the Bayesian way of thinking, data **do not** have errors, rather, **the model has uncertainty**. So the *observed* magnitude is not uncertain, we saw it! What is really uncertain is what it implies for the *true* magnitude, that we cannot see. \n",
    "\n",
    "To get a feel for this, let's re-run our simulation multiple times, and add the distribution of the true magnitudes to the above plot: "
   ]
  },
  {
   "cell_type": "code",
   "execution_count": 7,
   "id": "73727627",
   "metadata": {
    "ExecuteTime": {
     "end_time": "2021-08-27T08:10:00.746219Z",
     "start_time": "2021-08-27T08:10:00.637834Z"
    }
   },
   "outputs": [
    {
     "name": "stderr",
     "output_type": "stream",
     "text": [
      "No handles with labels found to put in legend.\n"
     ]
    },
    {
     "data": {
      "text/plain": [
       "Text(0, 0.5, 'M')"
      ]
     },
     "execution_count": 7,
     "metadata": {},
     "output_type": "execute_result"
    },
    {
     "data": {
      "image/png": "[encoded data removed]",
      "text/plain": [
       "<Figure size 432x288 with 1 Axes>"
      ]
     },
     "metadata": {
      "needs_background": "light"
     },
     "output_type": "display_data"
    }
   ],
   "source": [
    "fig, ax = plt.subplots()\n",
    "N_sims = 250\n",
    "for i in range(N_sims):\n",
    "    # to be completed...\n",
    "    # run simulation\n",
    "    # ax.scatter(log10P, M_obs, color=\"r\", alpha=0.01)\n",
    "    pass \n",
    "#ax.scatter(log10P, M_true, label=\"M_true\", color=\"g\") # will not change per sim\n",
    "ax.plot(log10P_grid, alpha + beta * log10_P_grid, color=\"k\", alpha=0.5)\n",
    "ax.invert_yaxis() # so brighter as y-axis increases\n",
    "ax.legend()\n",
    "ax.set_xlabel(\"log10(P/days)\")\n",
    "ax.set_ylabel(\"M\")"
   ]
  },
  {
   "cell_type": "markdown",
   "id": "b4f54740",
   "metadata": {},
   "source": [
    "Now you should see a nice distribution of possible `M_true` values for each known `M_obs`. If we do want to plot errorbars, we can think of them as marking out the standard deviation of these `M_obs` distributions."
   ]
  },
  {
   "cell_type": "markdown",
   "id": "076b27ec",
   "metadata": {},
   "source": [
    "### Exploratory data analysis\n",
    "\n",
    "<br>\n",
    "\n",
    "Now that we have some feeling for the generative model, let's take a look at some Cepheid variable data. You can find two files in the `data/` directory:\n",
    "\n",
    "1. galaxies.dat \n",
    "2. cepheids.dat\n",
    "\n",
    "The first contains information on the host galaxies, and the second contains information on the individual Cepheids studied in each host galaxy.\n",
    "\n",
    "<br>\n",
    "\n",
    "The right time in a workflow for exploratory data analysis can be difficult to define. In general, we want to be aware of how our data looks when designing a model for it, but also not too influenced such that we get carried away and design a model that *overfits* the data we have and is uncapable of generalising to unseen data. Here, we want to see how our first effort at a generative model stacks up, and also think about directions for improving our model.\n",
    "\n",
    "**Homework exercise 1 (30 points):** Complete the following exploratory data analysis."
   ]
  },
  {
   "cell_type": "code",
   "execution_count": 8,
   "id": "b0e75624",
   "metadata": {
    "ExecuteTime": {
     "end_time": "2021-08-27T08:10:00.758283Z",
     "start_time": "2021-08-27T08:10:00.748258Z"
    }
   },
   "outputs": [],
   "source": [
    "# read in the files\n",
    "\n",
    "# columns: gal z\n",
    "galaxy_info = np.loadtxt(\"data/galaxies.dat\")\n",
    "\n",
    "# columns: gal m_obs sigma_m P[days] delta_logO_H\n",
    "cepheid_info = np.loadtxt(\"data/cepheids.dat\")"
   ]
  },
  {
   "cell_type": "code",
   "execution_count": 9,
   "id": "3663050b",
   "metadata": {
    "ExecuteTime": {
     "end_time": "2021-08-27T08:10:00.765072Z",
     "start_time": "2021-08-27T08:10:00.759643Z"
    }
   },
   "outputs": [],
   "source": [
    "# reorganise the data into a dictionary indexed by the galaxy number\n",
    "galaxies = [int(ngc_no) for ngc_no in galaxy_info[:, 0]]\n",
    "data = {int(x[0]):{\"z\":x[1]} for x in galaxy_info}\n",
    "\n",
    "for g in galaxies:\n",
    "    j = np.where(cepheid_info[:, 0] == g)[0]\n",
    "    data[g][\"gal\"] = np.array([int(i) for i in cepheid_info[j, 0]])\n",
    "    data[g][\"Nc\"] = len(data[g][\"gal\"])\n",
    "    data[g][\"m_obs\"] = cepheid_info[j, 1]\n",
    "    data[g][\"sigma_m\"] = cepheid_info[j, 2]\n",
    "    data[g][\"P\"] = cepheid_info[j, 3]\n",
    "    data[g][\"delta_logO_H\"] = cepheid_info[j, 4]\n",
    "    data[g][\"log10P\"] = np.log10(data[g][\"P\"])"
   ]
  },
  {
   "cell_type": "code",
   "execution_count": 10,
   "id": "38c198ea",
   "metadata": {
    "ExecuteTime": {
     "end_time": "2021-08-27T08:10:00.775903Z",
     "start_time": "2021-08-27T08:10:00.768008Z"
    }
   },
   "outputs": [
    {
     "data": {
      "text/plain": [
       "{'z': 0.007125,\n",
       " 'gal': array([1309, 1309, 1309, 1309, 1309, 1309, 1309, 1309, 1309, 1309, 1309,\n",
       "        1309, 1309, 1309, 1309, 1309, 1309, 1309, 1309, 1309, 1309, 1309,\n",
       "        1309, 1309, 1309, 1309, 1309, 1309, 1309, 1309, 1309, 1309, 1309,\n",
       "        1309, 1309, 1309, 1309, 1309, 1309, 1309, 1309, 1309, 1309, 1309,\n",
       "        1309, 1309, 1309, 1309, 1309, 1309, 1309, 1309, 1309, 1309, 1309,\n",
       "        1309, 1309, 1309, 1309, 1309, 1309, 1309, 1309, 1309, 1309, 1309,\n",
       "        1309, 1309, 1309, 1309, 1309, 1309, 1309, 1309, 1309, 1309, 1309,\n",
       "        1309, 1309, 1309, 1309, 1309, 1309, 1309, 1309, 1309, 1309, 1309,\n",
       "        1309, 1309, 1309, 1309, 1309, 1309, 1309, 1309, 1309, 1309, 1309,\n",
       "        1309, 1309, 1309, 1309, 1309]),\n",
       " 'Nc': 104,\n",
       " 'm_obs': array([24.81, 26.05, 26.04, 22.8 , 21.86, 23.45, 23.85, 25.68, 24.6 ,\n",
       "        24.94, 21.34, 25.51, 23.45, 27.49, 24.16, 25.81, 23.9 , 26.28,\n",
       "        22.47, 25.13, 26.4 , 23.37, 24.78, 24.04, 23.86, 23.36, 23.68,\n",
       "        22.48, 22.99, 22.  , 26.91, 25.79, 24.11, 23.51, 23.73, 21.48,\n",
       "        25.02, 25.08, 26.24, 25.71, 22.85, 21.75, 23.16, 23.74, 28.62,\n",
       "        26.46, 24.58, 27.17, 26.19, 24.32, 20.03, 23.12, 25.08, 23.71,\n",
       "        21.8 , 28.82, 23.5 , 25.2 , 22.87, 23.52, 25.4 , 23.58, 23.66,\n",
       "        23.02, 21.95, 23.83, 26.71, 28.23, 23.38, 23.38, 26.54, 23.67,\n",
       "        23.03, 24.22, 24.77, 24.19, 23.63, 24.34, 25.71, 22.09, 22.22,\n",
       "        25.38, 24.78, 25.57, 24.74, 23.65, 23.87, 22.16, 27.46, 22.85,\n",
       "        27.57, 28.2 , 24.14, 24.53, 23.56, 23.59, 22.15, 25.75, 21.87,\n",
       "        19.88, 24.36, 24.4 , 25.17, 26.11]),\n",
       " 'sigma_m': array([0.3465, 0.4568, 0.53  , 0.3921, 0.2858, 0.4465, 0.365 , 0.3158,\n",
       "        0.2928, 0.2249, 0.3708, 0.3951, 0.6394, 0.5376, 0.5621, 0.3253,\n",
       "        0.3062, 0.493 , 0.5266, 0.1681, 0.1798, 0.3736, 0.1958, 0.677 ,\n",
       "        0.6026, 0.4121, 0.231 , 0.181 , 0.6874, 0.5242, 0.616 , 0.3323,\n",
       "        0.2505, 0.2797, 0.6141, 0.3838, 0.498 , 0.5834, 0.2518, 0.1477,\n",
       "        0.5397, 0.6768, 0.6723, 0.3943, 0.4793, 0.5398, 0.6414, 0.1973,\n",
       "        0.3435, 0.3503, 0.5174, 0.3549, 0.6149, 0.6082, 0.1421, 0.2811,\n",
       "        0.6878, 0.1214, 0.3954, 0.6714, 0.5863, 0.2766, 0.4577, 0.3587,\n",
       "        0.4554, 0.6363, 0.4324, 0.3957, 0.2916, 0.258 , 0.4254, 0.1494,\n",
       "        0.4814, 0.5778, 0.6728, 0.5108, 0.393 , 0.3912, 0.68  , 0.2268,\n",
       "        0.347 , 0.6938, 0.117 , 0.5208, 0.1151, 0.2925, 0.1441, 0.1365,\n",
       "        0.1668, 0.2016, 0.4766, 0.363 , 0.5985, 0.2439, 0.214 , 0.5271,\n",
       "        0.615 , 0.4354, 0.5227, 0.4631, 0.4355, 0.6162, 0.6519, 0.6098]),\n",
       " 'P': array([ 40.4  ,  18.37 ,  26.94 ,  36.51 ,  60.36 ,  35.8  ,  21.23 ,\n",
       "         21.88 ,  27.06 ,  25.44 ,  42.35 ,  23.35 ,  22.37 ,  10.06 ,\n",
       "         15.77 ,  22.25 ,  54.26 ,  20.12 ,  32.54 ,  27.51 ,  17.33 ,\n",
       "         37.04 ,  23.86 ,  29.43 ,  93.36 ,  44.58 ,  70.27 , 112.6  ,\n",
       "         91.35 ,  37.71 ,  17.65 ,  16.04 ,  25.6  ,  56.44 ,   9.834,\n",
       "         70.04 ,  15.53 ,  22.22 ,   6.193,  33.97 , 105.1  ,  74.57 ,\n",
       "         34.65 ,  47.13 ,  10.65 ,  12.95 ,  20.05 ,  17.29 ,  19.64 ,\n",
       "         21.85 ,  90.86 ,  49.45 ,  19.81 ,  26.33 ,  52.95 ,   3.637,\n",
       "         32.95 ,  17.28 ,  65.99 ,  21.28 ,  18.16 ,  67.28 ,  49.59 ,\n",
       "        140.7  ,  20.34 ,  25.11 ,  23.37 ,   8.477,  13.53 ,  54.76 ,\n",
       "         14.19 ,  46.11 ,  70.63 ,  49.85 ,  45.41 ,  79.09 ,  68.2  ,\n",
       "         15.05 ,  40.09 ,  62.46 ,  52.6  ,   7.514,  25.73 ,   9.577,\n",
       "         31.7  , 120.3  ,  36.75 , 110.5  ,   5.435,  27.44 ,  31.83 ,\n",
       "          6.819,  17.39 ,  29.19 ,  34.22 ,  30.37 ,  48.6  ,  10.2  ,\n",
       "         38.98 , 132.8  ,  13.25 ,  39.69 ,  13.71 ,  23.32 ]),\n",
       " 'delta_logO_H': array([ 0.3795  , -0.2468  ,  1.159   , -0.3276  , -0.896   , -0.2532  ,\n",
       "        -0.7035  ,  0.5588  ,  0.2014  ,  0.2183  , -1.65    ,  0.366   ,\n",
       "        -0.7328  ,  0.1837  , -0.4942  ,  0.5304  ,  0.1846  ,  0.22    ,\n",
       "        -0.7342  ,  0.1816  ,  0.678   , -0.5568  , -0.0891  , -0.2413  ,\n",
       "         0.1106  ,  0.3603  ,  0.4864  ,  0.1157  ,  0.06798 , -0.9633  ,\n",
       "         0.9988  , -0.01389 , -0.2523  ,  0.3159  , -1.385   , -1.108   ,\n",
       "        -0.4778  ,  0.6161  , -0.4173  ,  1.155   , -0.2238  , -0.2596  ,\n",
       "         0.6923  , -0.4224  ,  1.27    ,  0.4487  , -0.1107  ,  1.237   ,\n",
       "         0.7325  , -0.2851  , -1.354   , -0.3475  ,  0.1892  , -0.4236  ,\n",
       "        -0.7808  ,  0.5495  , -0.4174  ,  0.1361  , -0.0877  , -0.8897  ,\n",
       "         0.3616  ,  0.2815  ,  0.1661  ,  1.011   , -1.969   , -0.9261  ,\n",
       "         1.118   ,  1.114   , -1.365   ,  0.03091 ,  0.5538  ,  0.0539  ,\n",
       "        -0.05804 ,  0.2621  ,  0.3747  ,  0.8287  ,  0.4081  , -0.347   ,\n",
       "         0.6551  , -0.5     , -0.797   ,  0.01028 ,  0.09176 ,  0.1988  ,\n",
       "         0.3133  ,  1.305   ,  0.02101 , -0.005696,  0.3532  , -1.119   ,\n",
       "         2.016   ,  0.4762  , -0.7656  ,  0.3582  , -0.4937  , -0.3202  ,\n",
       "        -0.5463  , -0.2144  , -1.008   , -1.058   , -0.8279  ,  0.536   ,\n",
       "        -0.4936  ,  0.1985  ]),\n",
       " 'log10P': array([1.60638137, 1.26410916, 1.43039759, 1.56241183, 1.78074923,\n",
       "        1.55388303, 1.32694999, 1.34004732, 1.43232779, 1.40551711,\n",
       "        1.62685341, 1.36828688, 1.34966598, 1.00259798, 1.19783169,\n",
       "        1.34733002, 1.73447979, 1.30362798, 1.51241755, 1.43949059,\n",
       "        1.23879856, 1.56867098, 1.37767044, 1.46879026, 1.97016084,\n",
       "        1.64914006, 1.84676995, 2.05153839, 1.96070855, 1.57645653,\n",
       "        1.24674471, 1.20520436, 1.40823997, 1.75158701, 0.9927302 ,\n",
       "        1.84534614, 1.19117146, 1.34674405, 0.79190108, 1.53109555,\n",
       "        2.02160272, 1.87256414, 1.53970324, 1.67329744, 1.02734961,\n",
       "        1.11226977, 1.30211438, 1.23779499, 1.29314148, 1.33945144,\n",
       "        1.95837273, 1.6941663 , 1.29688448, 1.42045086, 1.72386596,\n",
       "        0.5607433 , 1.51785542, 1.23754374, 1.81947813, 1.32797162,\n",
       "        1.25911584, 1.82788598, 1.69539411, 2.1482941 , 1.30835095,\n",
       "        1.39984671, 1.36865871, 0.92824218, 1.1312978 , 1.73846344,\n",
       "        1.1519824 , 1.66379512, 1.84898921, 1.69766516, 1.6571515 ,\n",
       "        1.89812158, 1.83378437, 1.1775365 , 1.60303606, 1.79560198,\n",
       "        1.72098574, 0.87587119, 1.41043979, 0.98122949, 1.50105926,\n",
       "        2.08026563, 1.56525734, 2.04336228, 0.73519955, 1.43838411,\n",
       "        1.50283664, 0.83372069, 1.24029958, 1.46523409, 1.53428001,\n",
       "        1.48244479, 1.68663627, 1.00860017, 1.59084183, 2.12319808,\n",
       "        1.12221588, 1.5986811 , 1.13703745, 1.36772855])}"
      ]
     },
     "execution_count": 10,
     "metadata": {},
     "output_type": "execute_result"
    }
   ],
   "source": [
    "# have a look at the data structure for the first galaxy\n",
    "data[galaxies[0]]"
   ]
  },
  {
   "cell_type": "markdown",
   "id": "b145c33c",
   "metadata": {},
   "source": [
    "Let's plot the period vs. the apparent magnitude for a single galaxy. How does it compare to the simulated data?"
   ]
  },
  {
   "cell_type": "code",
   "execution_count": 11,
   "id": "e4ab02b3",
   "metadata": {
    "ExecuteTime": {
     "end_time": "2021-08-27T08:10:00.886001Z",
     "start_time": "2021-08-27T08:10:00.777562Z"
    }
   },
   "outputs": [
    {
     "data": {
      "text/plain": [
       "Text(0, 0.5, 'm')"
      ]
     },
     "execution_count": 11,
     "metadata": {},
     "output_type": "execute_result"
    },
    {
     "data": {
      "image/png": "[encoded data removed]",
      "text/plain": [
       "<Figure size 432x288 with 1 Axes>"
      ]
     },
     "metadata": {
      "needs_background": "light"
     },
     "output_type": "display_data"
    }
   ],
   "source": [
    "fig, ax = plt.subplots()\n",
    "g = galaxies[0]\n",
    "ax.errorbar(data[g][\"log10P\"], data[g][\"m_obs\"], yerr=data[g][\"sigma_m\"], fmt=\".\")\n",
    "ax.invert_yaxis()\n",
    "ax.set_xlabel(\"log10(P/days)\")\n",
    "ax.set_ylabel(\"m\")"
   ]
  },
  {
   "cell_type": "markdown",
   "id": "ec2e3f9a",
   "metadata": {},
   "source": [
    "We can immediately see that here there are individual $\\sigma_m$ for each Cepheid, and a somewhat visible linear relationship. Now for all the galaxies..."
   ]
  },
  {
   "cell_type": "code",
   "execution_count": 12,
   "id": "39fb8611",
   "metadata": {
    "ExecuteTime": {
     "end_time": "2021-08-27T08:10:01.092645Z",
     "start_time": "2021-08-27T08:10:00.887266Z"
    }
   },
   "outputs": [
    {
     "data": {
      "text/plain": [
       "<matplotlib.legend.Legend at 0x12ddb7ca0>"
      ]
     },
     "execution_count": 12,
     "metadata": {},
     "output_type": "execute_result"
    },
    {
     "data": {
      "image/png": "[encoded data removed]",
      "text/plain": [
       "<Figure size 720x504 with 1 Axes>"
      ]
     },
     "metadata": {
      "needs_background": "light"
     },
     "output_type": "display_data"
    }
   ],
   "source": [
    "fig, ax = plt.subplots()\n",
    "fig.set_size_inches((10, 7))\n",
    "for g in galaxies:\n",
    "    ax.errorbar(data[g][\"log10P\"], data[g][\"m_obs\"], yerr=data[g][\"sigma_m\"], fmt=\".\",\n",
    "                label=\"NGC %s\" % g)\n",
    "ax.invert_yaxis()\n",
    "ax.set_xlabel(\"log10(P/days)\")\n",
    "ax.set_ylabel(\"m\")\n",
    "ax.legend()"
   ]
  },
  {
   "cell_type": "markdown",
   "id": "a8176992",
   "metadata": {},
   "source": [
    "We can see rough linear relationships for each galaxy, but not a universal one. To better assess this, we should convert to absolute magnitude."
   ]
  },
  {
   "cell_type": "code",
   "execution_count": 13,
   "id": "0298d7a4",
   "metadata": {
    "ExecuteTime": {
     "end_time": "2021-08-27T08:10:01.098229Z",
     "start_time": "2021-08-27T08:10:01.096064Z"
    }
   },
   "outputs": [],
   "source": [
    "# add absolute magnitude to the data\n",
    "for g in galaxies:\n",
    "    # to be completed...\n",
    "    # data[g][\"M_obs\"] = absolute_magnitude(...)\n",
    "    pass"
   ]
  },
  {
   "cell_type": "code",
   "execution_count": 14,
   "id": "fdfb5059",
   "metadata": {
    "ExecuteTime": {
     "end_time": "2021-08-27T08:10:01.190313Z",
     "start_time": "2021-08-27T08:10:01.099937Z"
    }
   },
   "outputs": [
    {
     "name": "stderr",
     "output_type": "stream",
     "text": [
      "No handles with labels found to put in legend.\n"
     ]
    },
    {
     "data": {
      "text/plain": [
       "<matplotlib.legend.Legend at 0x12dfc5970>"
      ]
     },
     "execution_count": 14,
     "metadata": {},
     "output_type": "execute_result"
    },
    {
     "data": {
      "image/png": "[encoded data removed]",
      "text/plain": [
       "<Figure size 432x288 with 1 Axes>"
      ]
     },
     "metadata": {
      "needs_background": "light"
     },
     "output_type": "display_data"
    }
   ],
   "source": [
    "# plot for absolute magnitude this time \n",
    "fig, ax = plt.subplots()\n",
    "fig.set_size_inches((10, 7))\n",
    "for g in galaxies:\n",
    "    # to be completed...\n",
    "    pass\n",
    "ax.invert_yaxis()\n",
    "ax.set_xlabel(\"log10(P/days)\")\n",
    "ax.set_ylabel(\"M\")\n",
    "ax.legend()"
   ]
  },
  {
   "cell_type": "markdown",
   "id": "e5a7f626",
   "metadata": {},
   "source": [
    "We should now see a stronger global relation, but still with considerable intrinsic scatter and potential differences between galaxies. \n",
    "\n",
    "<br>\n",
    "\n",
    "We can see other quantities in the provided files, such as a measure of the metallicity of each star, `delta_logO_H`. \n",
    "\n",
    "* What do the distributions of `delta_logO_H` look like for different galaxies? Is there any relationship between `delta_logO_H` and `M_obs`?"
   ]
  },
  {
   "cell_type": "code",
   "execution_count": 15,
   "id": "9d63b16e",
   "metadata": {
    "ExecuteTime": {
     "end_time": "2021-08-27T08:10:01.194759Z",
     "start_time": "2021-08-27T08:10:01.191887Z"
    }
   },
   "outputs": [],
   "source": [
    "# to be completed..."
   ]
  },
  {
   "cell_type": "markdown",
   "id": "1e6a79b0",
   "metadata": {},
   "source": [
    "* How about the distributions of `P` in different galaxies? Why are some values of `P` more frequently observed than others?"
   ]
  },
  {
   "cell_type": "code",
   "execution_count": 16,
   "id": "8c874ac6",
   "metadata": {
    "ExecuteTime": {
     "end_time": "2021-08-27T08:10:01.199090Z",
     "start_time": "2021-08-27T08:10:01.196662Z"
    }
   },
   "outputs": [],
   "source": [
    "# to be completed..."
   ]
  },
  {
   "cell_type": "markdown",
   "id": "d674532f",
   "metadata": {},
   "source": [
    "* In light of the data, what are some ways in which we may want to expand our model one day?"
   ]
  },
  {
   "cell_type": "code",
   "execution_count": 17,
   "id": "336b7f5a",
   "metadata": {
    "ExecuteTime": {
     "end_time": "2021-08-27T08:10:01.202102Z",
     "start_time": "2021-08-27T08:10:01.200347Z"
    }
   },
   "outputs": [],
   "source": [
    "# to be completed... make some bullet points"
   ]
  },
  {
   "cell_type": "markdown",
   "id": "b8108ab0",
   "metadata": {},
   "source": [
    "### Further reading\n",
    "\n",
    "<br>\n",
    "\n",
    "Model building: [Towards a principled Bayesian workflow](https://betanalpha.github.io/assets/case_studies/principled_bayesian_workflow.html) and [Falling (in love with principled modeling)](https://betanalpha.github.io/assets/case_studies/falling.html) by Michael Betancourt\n",
    "\n",
    "The dataset prepared for this course is based on that reported in [Reiss et al. 2011](https://iopscience.iop.org/article/10.1088/0004-637X/730/2/119) and used in [this example](https://kipac.github.io/StatisticalMethods/tutorials/cepheids.html) of the KIPAC Statistical Methods course."
   ]
  },
  {
   "cell_type": "code",
   "execution_count": null,
   "id": "a2aeac4b",
   "metadata": {},
   "outputs": [],
   "source": []
  }
 ],
 "metadata": {
  "kernelspec": {
   "display_name": "bayesian_workflow",
   "language": "python",
   "name": "bayesian_workflow"
  },
  "language_info": {
   "codemirror_mode": {
    "name": "ipython",
    "version": 3
   },
   "file_extension": ".py",
   "mimetype": "text/x-python",
   "name": "python",
   "nbconvert_exporter": "python",
   "pygments_lexer": "ipython3",
   "version": "3.9.7"
  }
 },
 "nbformat": 4,
 "nbformat_minor": 5
}
