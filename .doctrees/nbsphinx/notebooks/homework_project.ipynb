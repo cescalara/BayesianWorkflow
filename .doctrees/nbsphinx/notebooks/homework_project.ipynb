{
 "cells": [
  {
   "cell_type": "markdown",
   "id": "8f167dc1",
   "metadata": {},
   "source": [
    "## 8. Homework project\n",
    "\n",
    "<br>\n",
    "\n",
    "**Homework exercise (200 points):**\n",
    "\n",
    "Choose a scientific question and dataset of your own and implement a suitable Bayesian workflow to answer your question. Alternatively, you may design an experiment to answer your question, and work with simulated data. Separate your working into the following topics:\n",
    "\n",
    "* Problem statement\n",
    "* Model building\n",
    "* Model checking\n",
    "* Model development\n",
    "* Model comparison (optional)\n",
    "* Experiment design (optional)\n",
    "* Conclusions\n",
    "\n",
    "You are free to choice any topic, but a few options are also given below."
   ]
  },
  {
   "cell_type": "markdown",
   "id": "a1757f51",
   "metadata": {},
   "source": [
    "**Example topics**\n",
    "\n",
    "* Studying the evolution of cosmic star formation with galaxy data: https://astrostatistics.psu.edu/datasets/COMBO17.html\n",
    "* Solar cycle and sun spot forecasting: https://wwwbis.sidc.be/silso/datafiles \n",
    "* To be continued...\n",
    "\n",
    "<br>\n",
    "\n",
    "If you have a question/dataset of interest but aren't sure of a dataset/question to match, then ask to discuss! Questions can be sent to f.capel@tum.de."
   ]
  },
  {
   "cell_type": "code",
   "execution_count": null,
   "id": "a942fb8e",
   "metadata": {},
   "outputs": [],
   "source": []
  }
 ],
 "metadata": {
  "kernelspec": {
   "display_name": "bayesian_workflow",
   "language": "python",
   "name": "bayesian_workflow"
  },
  "language_info": {
   "codemirror_mode": {
    "name": "ipython",
    "version": 3
   },
   "file_extension": ".py",
   "mimetype": "text/x-python",
   "name": "python",
   "nbconvert_exporter": "python",
   "pygments_lexer": "ipython3",
   "version": "3.9.7"
  }
 },
 "nbformat": 4,
 "nbformat_minor": 5
}
