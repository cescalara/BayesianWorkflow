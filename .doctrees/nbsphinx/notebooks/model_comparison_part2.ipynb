{
 "cells": [
  {
   "cell_type": "markdown",
   "metadata": {},
   "source": [
    "## 6. Model comparison (Part II)\n",
    "\n",
    "<br>\n",
    "\n",
    "See [these slides](model_comparison_part2_slides.pdf) for the lecture part."
   ]
  },
  {
   "cell_type": "markdown",
   "metadata": {},
   "source": [
    "### Model\n",
    "\n",
    "We again consider the sine model with gaussian measurement errors.\n",
    "\n",
    "$$ y = A_1 \\sin\\left(2 \\pi \\left(\\frac{t}{P_1} + t_1\\right)\\right) + B + \\epsilon $$\n",
    "\n",
    "where $\\epsilon \\sim \\mathrm{Normal}(0, \\sigma)$\n",
    "\n",
    "We want to test if this is preferred over pure noise.\n"
   ]
  },
  {
   "cell_type": "code",
   "execution_count": 1,
   "metadata": {
    "ExecuteTime": {
     "end_time": "2021-08-27T08:41:19.995225Z",
     "start_time": "2021-08-27T08:41:19.886500Z"
    }
   },
   "outputs": [],
   "source": [
    "import numpy as np\n",
    "from numpy import pi, sin\n",
    "\n",
    "def sine_model1(t, B, A1, P1, t1):\n",
    "    return A1 * sin((t / P1 + t1) * 2 * pi) + B\n",
    "\n",
    "def sine_model0(t, B):\n",
    "    return B + t*0"
   ]
  },
  {
   "cell_type": "markdown",
   "metadata": {},
   "source": [
    "\n",
    "The model has four unknown parameters per component:\n",
    "\n",
    "* the signal offset $B$\n",
    "* the amplitude $A$\n",
    "* the period $P$\n",
    "* the time offset $t_0$\n",
    "\n",
    "### Generating data\n",
    "\n",
    "Lets generate some data following this model:\n"
   ]
  },
  {
   "cell_type": "code",
   "execution_count": 2,
   "metadata": {
    "ExecuteTime": {
     "end_time": "2021-08-27T08:41:20.377232Z",
     "start_time": "2021-08-27T08:41:20.373256Z"
    }
   },
   "outputs": [],
   "source": [
    "np.random.seed(42)\n",
    "\n",
    "n_data = 50\n",
    "\n",
    "# time of observations\n",
    "t = np.random.uniform(0, 5, size=n_data)\n",
    "# measurement values\n",
    "yerr = 1.0\n",
    "y = np.random.normal(sine_model1(t, B=1.0, A1=0.9, P1=3, t1=0), yerr)"
   ]
  },
  {
   "cell_type": "markdown",
   "metadata": {},
   "source": [
    "### Visualise the data\n",
    "\n",
    "Lets plot the data first to see what is going on:"
   ]
  },
  {
   "cell_type": "code",
   "execution_count": 3,
   "metadata": {
    "ExecuteTime": {
     "end_time": "2021-08-27T08:41:22.007578Z",
     "start_time": "2021-08-27T08:41:21.676114Z"
    }
   },
   "outputs": [
    {
     "data": {
      "image/png": "[encoded data removed]",
      "text/plain": [
       "<Figure size 432x288 with 1 Axes>"
      ]
     },
     "metadata": {
      "needs_background": "light"
     },
     "output_type": "display_data"
    }
   ],
   "source": [
    "%matplotlib inline\n",
    "import matplotlib.pyplot as plt\n",
    "\n",
    "plt.figure()\n",
    "plt.xlabel('x')\n",
    "plt.ylabel('y')\n",
    "plt.errorbar(x=t, y=y, yerr=yerr,\n",
    "             marker='o', ls=' ', color='orange')\n",
    "t_range = np.linspace(0, 5, 1000)\n"
   ]
  },
  {
   "cell_type": "markdown",
   "metadata": {},
   "source": [
    "A beautiful noisy data set, with some hints of a modulation.\n",
    "\n",
    "Now the question is: what model parameters are allowed under these data?\n",
    "\n",
    "First, we need to define the parameter ranges through a prior:"
   ]
  },
  {
   "cell_type": "code",
   "execution_count": 4,
   "metadata": {
    "ExecuteTime": {
     "end_time": "2021-08-27T08:41:22.714239Z",
     "start_time": "2021-08-27T08:41:22.708738Z"
    }
   },
   "outputs": [],
   "source": [
    "parameters1 = ['B', 'A1', 'P1', 't1']\n",
    "\n",
    "def prior_transform1(cube):\n",
    "    # the argument, cube, consists of values from 0 to 1\n",
    "    # we have to convert them to physical scales\n",
    "    \n",
    "    params = cube.copy()\n",
    "    # let background level go from -10 to +10\n",
    "    params[0] = cube[0] * 20 - 10\n",
    "    # let amplitude go from 0.1 to 100\n",
    "    params[1] = 10**(cube[1] * 3 - 1)\n",
    "    # let period go from 0.3 to 30\n",
    "    params[2] = 10**(cube[2] * 2)\n",
    "    # let time go from 0 to 1\n",
    "    params[3] = cube[3]\n",
    "    return params\n",
    "\n",
    "parameters0 = ['B']\n",
    "\n",
    "def prior_transform0(cube):\n",
    "    # the argument, cube, consists of values from 0 to 1\n",
    "    # we have to convert them to physical scales\n",
    "    \n",
    "    params = cube.copy()\n",
    "    # let background level go from -10 to +10\n",
    "    params[0] = cube[0] * 20 - 10\n",
    "    return params\n"
   ]
  },
  {
   "cell_type": "markdown",
   "metadata": {},
   "source": [
    "Define the likelihood, which measures how far the data are from the model predictions.\n",
    "More precisely, how often the parameters would arise under the given parameters.\n",
    "We assume gaussian measurement errors of known size (yerr).\n",
    "\n",
    "$$\\chi^2 = \\sum\\left(\\frac{m_i-y_i}{\\sigma}\\right)^2 $$\n",
    "$$\\log \\cal{L} = -\\chi^2 / 2$$\n",
    "\n",
    "where the model is the sine_model function from above at time $t_i$."
   ]
  },
  {
   "cell_type": "code",
   "execution_count": 5,
   "metadata": {
    "ExecuteTime": {
     "end_time": "2021-08-27T08:41:23.648851Z",
     "start_time": "2021-08-27T08:41:23.643827Z"
    }
   },
   "outputs": [],
   "source": [
    "def log_likelihood1(params):\n",
    "    # unpack the current parameters:\n",
    "    B, A1, P1, t1 = params\n",
    "\n",
    "    # compute for each x point, where it should lie in y\n",
    "    y_model = sine_model1(t, B=B, A1=A1, P1=P1, t1=t1)\n",
    "    # compute likelihood\n",
    "    loglike = -0.5 * (((y_model - y) / yerr)**2).sum()\n",
    "    \n",
    "    return loglike\n",
    "\n",
    "def log_likelihood0(params):\n",
    "    B, = params\n",
    "    \n",
    "    y_model = sine_model0(t, B=B)\n",
    "    # compute likelihood\n",
    "    loglike = -0.5 * (((y_model - y) / yerr)**2).sum()\n",
    "    \n",
    "    return loglike\n",
    "    "
   ]
  },
  {
   "cell_type": "markdown",
   "metadata": {},
   "source": [
    "Solve the problem:"
   ]
  },
  {
   "cell_type": "code",
   "execution_count": 6,
   "metadata": {
    "ExecuteTime": {
     "end_time": "2021-08-27T08:41:24.916809Z",
     "start_time": "2021-08-27T08:41:24.611471Z"
    }
   },
   "outputs": [],
   "source": [
    "import ultranest\n",
    "\n",
    "sampler1 = ultranest.ReactiveNestedSampler(parameters1, log_likelihood1, prior_transform1)\n",
    "\n",
    "sampler0 = ultranest.ReactiveNestedSampler(parameters0, log_likelihood0, prior_transform0)\n"
   ]
  },
  {
   "cell_type": "code",
   "execution_count": 7,
   "metadata": {
    "ExecuteTime": {
     "end_time": "2021-08-27T08:42:07.408424Z",
     "start_time": "2021-08-27T08:41:25.021568Z"
    }
   },
   "outputs": [
    {
     "name": "stdout",
     "output_type": "stream",
     "text": [
      "[ultranest] Sampling 400 live points from prior ...\n"
     ]
    },
    {
     "data": {
      "application/vnd.jupyter.widget-view+json": {
       "model_id": "0653d5838d514e5495e0596082b04ba7",
       "version_major": 2,
       "version_minor": 0
      },
      "text/plain": [
       "VBox(children=(HTML(value=''), GridspecLayout(children=(HTML(value=\"<div style='background-color:#6E6BF4;'>&nb…"
      ]
     },
     "metadata": {},
     "output_type": "display_data"
    },
    {
     "name": "stdout",
     "output_type": "stream",
     "text": [
      "[ultranest] Explored until L=-2e+01   [-20.7186..-20.7186]*| it/evals=6660/177951 eff=3.7510% N=400    00  \n",
      "[ultranest] Likelihood function evaluations: 177973\n",
      "[ultranest]   logZ = -32.7 +- 0.1201\n",
      "[ultranest] Effective samples strategy satisfied (ESS = 2385.8, need >400)\n",
      "[ultranest] Posterior uncertainty strategy is satisfied (KL: 0.46+-0.05 nat, need <0.50 nat)\n",
      "[ultranest] Evidency uncertainty strategy is satisfied (dlogz=0.24, need <0.5)\n",
      "[ultranest]   logZ error budget: single: 0.16 bs:0.12 tail:0.01 total:0.12 required:<0.50\n",
      "[ultranest] done iterating.\n",
      "\n",
      "logZ = -32.722 +- 0.238\n",
      "  single instance: logZ = -32.722 +- 0.156\n",
      "  bootstrapped   : logZ = -32.698 +- 0.238\n",
      "  tail           : logZ = +- 0.010\n",
      "insert order U test : converged: True correlation: inf iterations\n",
      "\n",
      "    B                   1.02 +- 0.26\n",
      "    A1                  0.89 +- 0.31\n",
      "    P1                  3.7 +- 6.1\n",
      "    t1                  0.48 +- 0.45\n"
     ]
    }
   ],
   "source": [
    "result1 = sampler1.run(min_num_live_points=400)\n",
    "sampler1.print_results()"
   ]
  },
  {
   "cell_type": "code",
   "execution_count": 8,
   "metadata": {
    "ExecuteTime": {
     "end_time": "2021-08-27T08:42:11.129654Z",
     "start_time": "2021-08-27T08:42:07.411080Z"
    },
    "scrolled": true
   },
   "outputs": [
    {
     "name": "stdout",
     "output_type": "stream",
     "text": [
      "[ultranest] Sampling 400 live points from prior ...\n"
     ]
    },
    {
     "data": {
      "application/vnd.jupyter.widget-view+json": {
       "model_id": "4a3b42ad949e4e9296452eb02c347ef8",
       "version_major": 2,
       "version_minor": 0
      },
      "text/plain": [
       "VBox(children=(HTML(value=''), GridspecLayout(children=(HTML(value=\"<div style='background-color:#6E6BF4;'>&nb…"
      ]
     },
     "metadata": {},
     "output_type": "display_data"
    },
    {
     "name": "stdout",
     "output_type": "stream",
     "text": [
      "[ultranest] Explored until L=-3e+01   [-31.7136..-31.7136]*| it/evals=2960/3465 eff=96.5742% N=400   0 \n",
      "[ultranest] Likelihood function evaluations: 3470\n",
      "[ultranest]   logZ = -35.87 +- 0.07029\n",
      "[ultranest] Effective samples strategy satisfied (ESS = 1243.0, need >400)\n",
      "[ultranest] Posterior uncertainty strategy is satisfied (KL: 0.46+-0.07 nat, need <0.50 nat)\n",
      "[ultranest] Evidency uncertainty strategy is satisfied (dlogz=0.16, need <0.5)\n",
      "[ultranest]   logZ error budget: single: 0.10 bs:0.07 tail:0.04 total:0.08 required:<0.50\n",
      "[ultranest] done iterating.\n",
      "\n",
      "logZ = -35.885 +- 0.162\n",
      "  single instance: logZ = -35.885 +- 0.096\n",
      "  bootstrapped   : logZ = -35.868 +- 0.157\n",
      "  tail           : logZ = +- 0.038\n",
      "insert order U test : converged: True correlation: inf iterations\n",
      "\n",
      "    B                   1.15 +- 0.14\n"
     ]
    }
   ],
   "source": [
    "result0 = sampler0.run(min_num_live_points=400)\n",
    "sampler0.print_results()"
   ]
  },
  {
   "cell_type": "markdown",
   "metadata": {},
   "source": [
    "### Plot the parameter posterior probability distribution\n",
    "\n",
    "A classic corner plot of the parameter pairs and the marginal distributions:"
   ]
  },
  {
   "cell_type": "code",
   "execution_count": 9,
   "metadata": {
    "ExecuteTime": {
     "end_time": "2021-08-27T08:42:12.804909Z",
     "start_time": "2021-08-27T08:42:11.132273Z"
    }
   },
   "outputs": [
    {
     "data": {
      "image/png": "[encoded data removed]",
      "text/plain": [
       "<Figure size 698.4x698.4 with 16 Axes>"
      ]
     },
     "metadata": {
      "needs_background": "light"
     },
     "output_type": "display_data"
    }
   ],
   "source": [
    "from ultranest.plot import cornerplot\n",
    "cornerplot(result1)"
   ]
  },
  {
   "cell_type": "code",
   "execution_count": 10,
   "metadata": {
    "ExecuteTime": {
     "end_time": "2021-08-27T08:42:12.898114Z",
     "start_time": "2021-08-27T08:42:12.807500Z"
    }
   },
   "outputs": [
    {
     "data": {
      "image/png": "[encoded data removed]",
      "text/plain": [
       "<Figure size 244.8x244.8 with 1 Axes>"
      ]
     },
     "metadata": {
      "needs_background": "light"
     },
     "output_type": "display_data"
    }
   ],
   "source": [
    "cornerplot(result0)"
   ]
  },
  {
   "cell_type": "markdown",
   "metadata": {},
   "source": [
    "If you want, you can also play with the posterior as a pandas frame:"
   ]
  },
  {
   "cell_type": "code",
   "execution_count": 11,
   "metadata": {
    "ExecuteTime": {
     "end_time": "2021-08-27T08:42:12.919398Z",
     "start_time": "2021-08-27T08:42:12.899842Z"
    }
   },
   "outputs": [
    {
     "data": {
      "text/html": [
       "<div>\n",
       "<style scoped>\n",
       "    .dataframe tbody tr th:only-of-type {\n",
       "        vertical-align: middle;\n",
       "    }\n",
       "\n",
       "    .dataframe tbody tr th {\n",
       "        vertical-align: top;\n",
       "    }\n",
       "\n",
       "    .dataframe thead th {\n",
       "        text-align: right;\n",
       "    }\n",
       "</style>\n",
       "<table border=\"1\" class=\"dataframe\">\n",
       "  <thead>\n",
       "    <tr style=\"text-align: right;\">\n",
       "      <th></th>\n",
       "      <th>B</th>\n",
       "      <th>A1</th>\n",
       "      <th>P1</th>\n",
       "      <th>t1</th>\n",
       "    </tr>\n",
       "  </thead>\n",
       "  <tbody>\n",
       "    <tr>\n",
       "      <th>count</th>\n",
       "      <td>7065.000000</td>\n",
       "      <td>7065.000000</td>\n",
       "      <td>7065.000000</td>\n",
       "      <td>7065.000000</td>\n",
       "    </tr>\n",
       "    <tr>\n",
       "      <th>mean</th>\n",
       "      <td>1.016814</td>\n",
       "      <td>0.892815</td>\n",
       "      <td>3.734001</td>\n",
       "      <td>0.475235</td>\n",
       "    </tr>\n",
       "    <tr>\n",
       "      <th>std</th>\n",
       "      <td>0.260352</td>\n",
       "      <td>0.309381</td>\n",
       "      <td>6.088507</td>\n",
       "      <td>0.445044</td>\n",
       "    </tr>\n",
       "    <tr>\n",
       "      <th>min</th>\n",
       "      <td>-3.337517</td>\n",
       "      <td>0.101084</td>\n",
       "      <td>1.010937</td>\n",
       "      <td>0.000062</td>\n",
       "    </tr>\n",
       "    <tr>\n",
       "      <th>25%</th>\n",
       "      <td>0.901084</td>\n",
       "      <td>0.730872</td>\n",
       "      <td>2.899282</td>\n",
       "      <td>0.042637</td>\n",
       "    </tr>\n",
       "    <tr>\n",
       "      <th>50%</th>\n",
       "      <td>1.008328</td>\n",
       "      <td>0.885560</td>\n",
       "      <td>3.032814</td>\n",
       "      <td>0.151977</td>\n",
       "    </tr>\n",
       "    <tr>\n",
       "      <th>75%</th>\n",
       "      <td>1.114300</td>\n",
       "      <td>1.051549</td>\n",
       "      <td>3.175849</td>\n",
       "      <td>0.957797</td>\n",
       "    </tr>\n",
       "    <tr>\n",
       "      <th>max</th>\n",
       "      <td>7.390607</td>\n",
       "      <td>6.467284</td>\n",
       "      <td>98.302179</td>\n",
       "      <td>0.999996</td>\n",
       "    </tr>\n",
       "  </tbody>\n",
       "</table>\n",
       "</div>"
      ],
      "text/plain": [
       "                 B           A1           P1           t1\n",
       "count  7065.000000  7065.000000  7065.000000  7065.000000\n",
       "mean      1.016814     0.892815     3.734001     0.475235\n",
       "std       0.260352     0.309381     6.088507     0.445044\n",
       "min      -3.337517     0.101084     1.010937     0.000062\n",
       "25%       0.901084     0.730872     2.899282     0.042637\n",
       "50%       1.008328     0.885560     3.032814     0.151977\n",
       "75%       1.114300     1.051549     3.175849     0.957797\n",
       "max       7.390607     6.467284    98.302179     0.999996"
      ]
     },
     "execution_count": 11,
     "metadata": {},
     "output_type": "execute_result"
    }
   ],
   "source": [
    "import pandas as pd\n",
    "df = pd.DataFrame(data=result1['samples'], columns=result1['paramnames'])\n",
    "df.describe()"
   ]
  },
  {
   "cell_type": "markdown",
   "metadata": {},
   "source": [
    "### Plot the fit:"
   ]
  },
  {
   "cell_type": "markdown",
   "metadata": {},
   "source": [
    "To evaluate whether the results make any sense, we want\n",
    "to look whether the fitted function goes through the data points."
   ]
  },
  {
   "cell_type": "code",
   "execution_count": 12,
   "metadata": {
    "ExecuteTime": {
     "end_time": "2021-08-27T08:42:14.232518Z",
     "start_time": "2021-08-27T08:42:12.921640Z"
    }
   },
   "outputs": [
    {
     "data": {
      "text/plain": [
       "<matplotlib.collections.PolyCollection at 0x13df2f8b0>"
      ]
     },
     "execution_count": 12,
     "metadata": {},
     "output_type": "execute_result"
    },
    {
     "data": {
      "image/png": "[encoded data removed]",
      "text/plain": [
       "<Figure size 432x288 with 1 Axes>"
      ]
     },
     "metadata": {
      "needs_background": "light"
     },
     "output_type": "display_data"
    }
   ],
   "source": [
    "plt.figure()\n",
    "plt.title(\"1-sine fit\")\n",
    "plt.xlabel('x')\n",
    "plt.ylabel('y')\n",
    "plt.errorbar(x=t, y=y, yerr=yerr,\n",
    "             marker='o', ls=' ', color='orange')\n",
    "\n",
    "\n",
    "t_grid = np.linspace(0, 5, 400)\n",
    "\n",
    "from ultranest.plot import PredictionBand\n",
    "band = PredictionBand(t_grid)\n",
    "\n",
    "# go through the solutions\n",
    "for B, A1, P1, t1 in sampler1.results['samples']:\n",
    "    # compute for each time the y value\n",
    "    band.add(sine_model1(t_grid, B=B, A1=A1, P1=P1, t1=t1))\n",
    "\n",
    "band.line(color='k')\n",
    "# add 1 sigma quantile\n",
    "band.shade(color='k', alpha=0.3)\n",
    "# add wider quantile (0.01 .. 0.99)\n",
    "band.shade(q=0.49, color='gray', alpha=0.2)\n",
    "\n"
   ]
  },
  {
   "cell_type": "markdown",
   "metadata": {},
   "source": [
    "### Model comparison methods\n",
    "\n",
    "We now want to know:\n",
    "\n",
    "**Is the model with 2 components better than the model with one component?**\n",
    "\n",
    "What do we mean by \"better\" (\"it fits better\", \"the component is significant\")?\n",
    "\n",
    "a) Which model is better at predicting data it has not seen yet?\n",
    "\n",
    "b) Which model is more probably the true one, given this data, these models, and their parameter spaces?\n",
    "\n",
    "c) Which model is simplest, but complex enough to capture the information complexity of the data?\n",
    "\n",
    "\n",
    "### Bayesian model comparison\n",
    "\n",
    "Here we will focus on b, and apply Bayesian model comparison. \n",
    "\n",
    "For simplicity, we will assume equal a-prior model probabilities.\n",
    "\n",
    "The Bayes factor is:\n"
   ]
  },
  {
   "cell_type": "code",
   "execution_count": 13,
   "metadata": {
    "ExecuteTime": {
     "end_time": "2021-08-27T08:42:14.239537Z",
     "start_time": "2021-08-27T08:42:14.235017Z"
    }
   },
   "outputs": [
    {
     "name": "stdout",
     "output_type": "stream",
     "text": [
      "K = 23.66\n",
      "The 1-sine model is 23.66 times more probable than the no-signal model\n",
      "assuming the models are equally probable a priori.\n"
     ]
    }
   ],
   "source": [
    "K = np.exp(result1['logz'] - result0['logz'])\n",
    "print(\"K = %.2f\" % K)\n",
    "print(\"The 1-sine model is %.2f times more probable than the no-signal model\" % K)\n",
    "print(\"assuming the models are equally probable a priori.\")"
   ]
  },
  {
   "cell_type": "markdown",
   "metadata": {},
   "source": [
    "N.B.: Bayes factors are influenced by parameter and model priors. It is a good idea to vary them and see how sensitive the result is."
   ]
  },
  {
   "cell_type": "markdown",
   "metadata": {},
   "source": [
    "For making decisions, thresholds are needed. They can be calibrated to desired low false decisions rates with simulations (generate data under the simpler model, look at K distribution)."
   ]
  },
  {
   "cell_type": "markdown",
   "metadata": {},
   "source": [
    "### Calibrating Bayes factor thresholds\n",
    "\n",
    "Lets generate some data sets under the null hypothesis (noise-only model) and see \n",
    "how often we would get a large Bayes factor. For this, we need to fit with both \n",
    "models."
   ]
  },
  {
   "cell_type": "code",
   "execution_count": null,
   "metadata": {},
   "outputs": [],
   "source": [
    "import logging\n",
    "logging.getLogger('ultranest').setLevel(logging.FATAL)"
   ]
  },
  {
   "cell_type": "code",
   "execution_count": null,
   "metadata": {},
   "outputs": [],
   "source": [
    "K_simulated = []\n",
    "\n",
    "import logging\n",
    "logging.getLogger('ultranest').handlers[-1].setLevel(logging.FATAL)\n",
    "\n",
    "# go through 100 plausible parameters\n",
    "for B in sampler0.results['samples'][:10]:\n",
    "    # generate new data\n",
    "    y = np.random.normal(sine_model0(t, B=1.0), yerr)\n",
    "    \n",
    "    # analyse with sine model\n",
    "    sampler1 = ultranest.ReactiveNestedSampler(parameters1, log_likelihood1, prior_transform1)\n",
    "    lnZ1 = sampler1.run(viz_callback=False)['logz']\n",
    "\n",
    "    # analyse with noise-only model\n",
    "    sampler0 = ultranest.ReactiveNestedSampler(parameters0, log_likelihood0, prior_transform0)\n",
    "    lnZ0 = sampler0.run(viz_callback=False)['logz']\n",
    "    \n",
    "    # store Bayes factor to K_simulated\n",
    "    #    the difference of the lnZ values is the ln of the Bayes factor\n",
    "    print()\n",
    "    #print(\"Bayes factor: %.2f\" % ...) # TODO by you:\n",
    "\n",
    "    #K_simulated.append(  ... ... )  # TODO by you:\n"
   ]
  },
  {
   "cell_type": "markdown",
   "metadata": {},
   "source": [
    "**Exercise 1:**\n",
    "\n",
    "* Plot the distribution of Bayes factors.\n",
    "* How many false positives and false negatives would you have if you applied a threshold of Bayes factor 10?\n",
    "* Where does the real Bayes factor lie? Do you trust the result?\n",
    "\n",
    "<br>\n",
    "\n",
    "**Homework exercise 1:**\n",
    "\n",
    "* Make a ROC curve, by plotting the false positive vs false negative rates as a function of thresholds.\n",
    "* Add a ROC curve of likelihood ratios (hint: the highest log-likelihood found is in `sampler.results['maximum likelihood']['logl']`).\n",
    "* If you can think of another method to identify a second sine signal, compute its indicator as well, and add a ROC curve.\n"
   ]
  },
  {
   "cell_type": "code",
   "execution_count": null,
   "metadata": {},
   "outputs": [],
   "source": []
  }
 ],
 "metadata": {
  "kernelspec": {
   "display_name": "Python 3 (ipykernel)",
   "language": "python",
   "name": "python3"
  },
  "language_info": {
   "codemirror_mode": {
    "name": "ipython",
    "version": 3
   },
   "file_extension": ".py",
   "mimetype": "text/x-python",
   "name": "python",
   "nbconvert_exporter": "python",
   "pygments_lexer": "ipython3",
   "version": "3.9.6"
  }
 },
 "nbformat": 4,
 "nbformat_minor": 2
}
